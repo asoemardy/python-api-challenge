{
 "cells": [
  {
   "cell_type": "markdown",
   "metadata": {},
   "source": [
    "# WeatherPy\n",
    "----\n",
    "\n",
    "#### Note\n",
    "* Instructions have been included for each segment. You do not have to follow them exactly, but they are included to help you think through the steps."
   ]
  },
  {
   "cell_type": "code",
   "execution_count": 1,
   "metadata": {},
   "outputs": [
    {
     "name": "stdout",
     "output_type": "stream",
     "text": [
      "Collecting citipy\n",
      "  Downloading citipy-0.0.5.tar.gz (557 kB)\n",
      "Collecting kdtree>=0.12\n",
      "  Downloading kdtree-0.16-py2.py3-none-any.whl (7.7 kB)\n",
      "Building wheels for collected packages: citipy\n",
      "  Building wheel for citipy (setup.py): started\n",
      "  Building wheel for citipy (setup.py): finished with status 'done'\n",
      "  Created wheel for citipy: filename=citipy-0.0.5-py3-none-any.whl size=559707 sha256=aa12abc1cec4b06139f92e3f2a59300c5148a7d61cb97b890ff10d03b869856b\n",
      "  Stored in directory: c:\\users\\asoem\\appdata\\local\\pip\\cache\\wheels\\72\\ae\\63\\5d03cf6dfe5c0e9328fb73f8b30da1948a06b9cceaf2c68d2d\n",
      "Successfully built citipy\n",
      "Installing collected packages: kdtree, citipy\n",
      "Successfully installed citipy-0.0.5 kdtree-0.16\n"
     ]
    }
   ],
   "source": [
    "!pip install citipy"
   ]
  },
  {
   "cell_type": "code",
   "execution_count": 1,
   "metadata": {},
   "outputs": [],
   "source": [
    "# Importing sys to be able to see the key from different directories\n",
    "import sys\n",
    "\n",
    "sys.path.append('../')"
   ]
  },
  {
   "cell_type": "code",
   "execution_count": 2,
   "metadata": {
    "scrolled": true
   },
   "outputs": [],
   "source": [
    "# Importing weather map API key\n",
    "from api_keys import weather_api_key"
   ]
  },
  {
   "cell_type": "code",
   "execution_count": 3,
   "metadata": {
    "scrolled": true
   },
   "outputs": [],
   "source": [
    "# Importing dependencies\n",
    "import numpy as np\n",
    "import pandas as pd\n",
    "import requests\n",
    "from scipy.stats import linregress\n",
    "from matplotlib import pyplot as plt\n",
    "from citipy import citipy\n",
    "from random import uniform"
   ]
  },
  {
   "cell_type": "markdown",
   "metadata": {},
   "source": [
    "## Generate Cities List"
   ]
  },
  {
   "cell_type": "code",
   "execution_count": 13,
   "metadata": {},
   "outputs": [],
   "source": [
    "# Creating random list of coordinates\n",
    "coords = [(uniform(-90,90),uniform(-180,180)) for i in range(0,650)]"
   ]
  },
  {
   "cell_type": "code",
   "execution_count": 15,
   "metadata": {},
   "outputs": [
    {
     "data": {
      "text/plain": [
       "<citipy.citipy.City at 0x2967bf64248>"
      ]
     },
     "execution_count": 15,
     "metadata": {},
     "output_type": "execute_result"
    }
   ],
   "source": [
    "# Generates the cities list\n",
    "cities = []\n",
    "for coord_pair in coords:\n",
    "    lat, lon = coord_pair\n",
    "    cities.append(citipy.nearest_city(lat, lon))"
   ]
  },
  {
   "cell_type": "code",
   "execution_count": 16,
   "metadata": {},
   "outputs": [
    {
     "data": {
      "text/plain": [
       "650"
      ]
     },
     "execution_count": 16,
     "metadata": {},
     "output_type": "execute_result"
    }
   ],
   "source": [
    "# Checking the length of cities list (expected 650)\n",
    "len(cities)"
   ]
  },
  {
   "cell_type": "code",
   "execution_count": 21,
   "metadata": {},
   "outputs": [
    {
     "data": {
      "text/plain": [
       "'kirksville'"
      ]
     },
     "execution_count": 21,
     "metadata": {},
     "output_type": "execute_result"
    }
   ],
   "source": [
    "cities[1].city_name"
   ]
  },
  {
   "cell_type": "markdown",
   "metadata": {},
   "source": [
    "### Perform API Calls\n",
    "* Perform a weather check on each city using a series of successive API calls.\n",
    "* Include a print log of each city as it'sbeing processed (with the city number and city name).\n"
   ]
  },
  {
   "cell_type": "code",
   "execution_count": 24,
   "metadata": {
    "scrolled": true
   },
   "outputs": [
    {
     "data": {
      "text/plain": [
       "{'coord': {'lon': -92.58, 'lat': 40.19},\n",
       " 'weather': [{'id': 800,\n",
       "   'main': 'Clear',\n",
       "   'description': 'clear sky',\n",
       "   'icon': '01n'}],\n",
       " 'base': 'stations',\n",
       " 'main': {'temp': 2.61,\n",
       "  'feels_like': -1.06,\n",
       "  'temp_min': 1.11,\n",
       "  'temp_max': 5,\n",
       "  'pressure': 1025,\n",
       "  'humidity': 74},\n",
       " 'visibility': 10000,\n",
       " 'wind': {'speed': 2.1, 'deg': 260},\n",
       " 'clouds': {'all': 1},\n",
       " 'dt': 1602825026,\n",
       " 'sys': {'type': 1,\n",
       "  'id': 4545,\n",
       "  'country': 'US',\n",
       "  'sunrise': 1602850944,\n",
       "  'sunset': 1602890925},\n",
       " 'timezone': -18000,\n",
       " 'id': 5055787,\n",
       " 'name': 'Kirksville',\n",
       " 'cod': 200}"
      ]
     },
     "execution_count": 24,
     "metadata": {},
     "output_type": "execute_result"
    }
   ],
   "source": [
    "# Save config information.\n",
    "url = \"http://api.openweathermap.org/data/2.5/weather?\"\n",
    "units = \"metric\"\n",
    "\n",
    "# Build partial query URL\n",
    "query_url = f\"{url}appid={weather_api_key}&units={units}&q=\"\n",
    "\n",
    "response = requests.get(query_url + cities[1].city_name).json()\n",
    "response"
   ]
  },
  {
   "cell_type": "code",
   "execution_count": 35,
   "metadata": {},
   "outputs": [
    {
     "data": {
      "text/plain": [
       "1602825026"
      ]
     },
     "execution_count": 35,
     "metadata": {},
     "output_type": "execute_result"
    }
   ],
   "source": [
    "response['dt']"
   ]
  },
  {
   "cell_type": "code",
   "execution_count": 36,
   "metadata": {},
   "outputs": [],
   "source": [
    "# Setting up list of data to be appended during API calls\n",
    "cities_list = []\n",
    "lat = []\n",
    "lng = []\n",
    "max_temp = []\n",
    "humidity = []\n",
    "cloudiness = []\n",
    "wind_speed = []\n",
    "country_code = []\n",
    "date = []\n",
    "count = 1\n",
    "set_count = 1"
   ]
  },
  {
   "cell_type": "code",
   "execution_count": 37,
   "metadata": {},
   "outputs": [
    {
     "name": "stdout",
     "output_type": "stream",
     "text": [
      "Beginning Data Retrieval\n",
      "---------------------------\n",
      "Processing Record 1 of Set 1 | qaanaaq\n",
      "Processing Record 2 of Set 1 | kirksville\n",
      "Processing Record 3 of Set 1 | mataura\n",
      "Processing Record 4 of Set 1 | coahuayana\n",
      "Processing Record 5 of Set 1 | mae hong son\n",
      "Processing Record 6 of Set 1 | rikitea\n",
      "Processing Record 7 of Set 1 | naze\n",
      "Processing Record 8 of Set 1 | colares\n",
      "Processing Record 9 of Set 1 | tual\n",
      "Processing Record 10 of Set 1 | rocha\n",
      "Processing Record 11 of Set 1 | port alfred\n",
      "Processing Record 12 of Set 1 | aklavik\n",
      "Processing Record 13 of Set 1 | carnarvon\n",
      "Processing Record 14 of Set 1 | norman wells\n",
      "Processing Record 15 of Set 1 | zainsk\n",
      "Processing Record 16 of Set 1 | varhaug\n",
      "Processing Record 17 of Set 1 | rikitea\n",
      "Processing Record 18 of Set 1 | port alfred\n",
      "Processing Record 19 of Set 1 | lavrentiya\n",
      "Processing Record 20 of Set 1 | minsk\n",
      "Processing Record 21 of Set 1 | ushuaia\n",
      "Processing Record 22 of Set 1 | mar del plata\n",
      "Processing Record 23 of Set 1 | luderitz\n",
      "Processing Record 24 of Set 1 | namibe\n",
      "Processing Record 25 of Set 1 | cape town\n",
      "Processing Record 26 of Set 1 | atuona\n",
      "Processing Record 27 of Set 1 | victoria\n",
      "City not found. Skipping...\n",
      "Processing Record 28 of Set 1 | ushuaia\n",
      "Processing Record 29 of Set 1 | atuona\n",
      "Processing Record 30 of Set 1 | bengkulu\n",
      "Processing Record 31 of Set 1 | ushuaia\n",
      "Processing Record 32 of Set 1 | zorgo\n",
      "Processing Record 33 of Set 1 | airai\n",
      "Processing Record 34 of Set 1 | bengkulu\n",
      "City not found. Skipping...\n",
      "Processing Record 35 of Set 1 | fortuna\n",
      "City not found. Skipping...\n",
      "Processing Record 36 of Set 1 | kruisfontein\n",
      "Processing Record 37 of Set 1 | bredasdorp\n",
      "City not found. Skipping...\n",
      "Processing Record 38 of Set 1 | barcelos\n",
      "Processing Record 39 of Set 1 | san cristobal\n",
      "Processing Record 40 of Set 1 | mataura\n",
      "Processing Record 41 of Set 1 | kruisfontein\n",
      "Processing Record 42 of Set 1 | khatanga\n",
      "Processing Record 43 of Set 1 | thompson\n",
      "Processing Record 44 of Set 1 | saint-philippe\n",
      "Processing Record 45 of Set 1 | labuhan\n",
      "Processing Record 46 of Set 1 | yellowknife\n",
      "Processing Record 47 of Set 1 | kununurra\n",
      "Processing Record 48 of Set 1 | busselton\n",
      "Processing Record 49 of Set 1 | oloron-sainte-marie\n",
      "Processing Record 50 of Set 1 | bengkulu\n",
      "Processing Record 1 of Set 2 | bluff\n",
      "Processing Record 2 of Set 2 | krasnaya gora\n",
      "City not found. Skipping...\n",
      "Processing Record 3 of Set 2 | punta arenas\n",
      "Processing Record 4 of Set 2 | kaspiysk\n",
      "Processing Record 5 of Set 2 | assiniboia\n",
      "Processing Record 6 of Set 2 | egvekinot\n",
      "City not found. Skipping...\n",
      "Processing Record 7 of Set 2 | kloulklubed\n",
      "Processing Record 8 of Set 2 | ushuaia\n",
      "Processing Record 9 of Set 2 | honiara\n",
      "Processing Record 10 of Set 2 | port alfred\n",
      "Processing Record 11 of Set 2 | hilo\n",
      "Processing Record 12 of Set 2 | geraldton\n",
      "Processing Record 13 of Set 2 | bara\n",
      "Processing Record 14 of Set 2 | galesong\n",
      "Processing Record 15 of Set 2 | katsuura\n",
      "Processing Record 16 of Set 2 | carauari\n",
      "Processing Record 17 of Set 2 | weligama\n",
      "City not found. Skipping...\n",
      "Processing Record 18 of Set 2 | inhambane\n",
      "Processing Record 19 of Set 2 | huilong\n",
      "Processing Record 20 of Set 2 | rorvik\n",
      "Processing Record 21 of Set 2 | namibe\n",
      "Processing Record 22 of Set 2 | punta arenas\n",
      "Processing Record 23 of Set 2 | pangnirtung\n",
      "Processing Record 24 of Set 2 | nikolskoye\n",
      "City not found. Skipping...\n",
      "Processing Record 25 of Set 2 | kapaa\n",
      "Processing Record 26 of Set 2 | krasnoselkup\n",
      "Processing Record 27 of Set 2 | san patricio\n",
      "Processing Record 28 of Set 2 | vaini\n",
      "Processing Record 29 of Set 2 | merrill\n",
      "Processing Record 30 of Set 2 | kapaa\n",
      "Processing Record 31 of Set 2 | bambous virieux\n",
      "Processing Record 32 of Set 2 | victoria\n",
      "Processing Record 33 of Set 2 | sisimiut\n",
      "Processing Record 34 of Set 2 | rikitea\n",
      "Processing Record 35 of Set 2 | virginia beach\n",
      "Processing Record 36 of Set 2 | vaini\n",
      "Processing Record 37 of Set 2 | khatanga\n",
      "Processing Record 38 of Set 2 | batticaloa\n",
      "Processing Record 39 of Set 2 | mahebourg\n",
      "Processing Record 40 of Set 2 | kaitangata\n",
      "City not found. Skipping...\n",
      "Processing Record 41 of Set 2 | saint-philippe\n",
      "Processing Record 42 of Set 2 | punta arenas\n",
      "Processing Record 43 of Set 2 | varhaug\n",
      "Processing Record 44 of Set 2 | barrow\n",
      "Processing Record 45 of Set 2 | sakaiminato\n",
      "Processing Record 46 of Set 2 | ushuaia\n",
      "Processing Record 47 of Set 2 | merauke\n",
      "Processing Record 48 of Set 2 | port hardy\n",
      "Processing Record 49 of Set 2 | ulladulla\n",
      "Processing Record 50 of Set 2 | jamestown\n",
      "Processing Record 1 of Set 3 | hermanus\n",
      "Processing Record 2 of Set 3 | mar del plata\n",
      "City not found. Skipping...\n",
      "Processing Record 3 of Set 3 | hilo\n",
      "Processing Record 4 of Set 3 | ribeira grande\n",
      "Processing Record 5 of Set 3 | cape town\n",
      "City not found. Skipping...\n",
      "Processing Record 6 of Set 3 | marawi\n",
      "Processing Record 7 of Set 3 | gwadar\n",
      "Processing Record 8 of Set 3 | turayf\n",
      "Processing Record 9 of Set 3 | wilmington\n",
      "Processing Record 10 of Set 3 | rikitea\n",
      "Processing Record 11 of Set 3 | georgetown\n",
      "Processing Record 12 of Set 3 | saskylakh\n",
      "Processing Record 13 of Set 3 | adrar\n",
      "Processing Record 14 of Set 3 | lexington\n",
      "Processing Record 15 of Set 3 | hilo\n",
      "Processing Record 16 of Set 3 | bilibino\n",
      "Processing Record 17 of Set 3 | mago\n",
      "Processing Record 18 of Set 3 | ushuaia\n",
      "Processing Record 19 of Set 3 | yellowknife\n",
      "Processing Record 20 of Set 3 | georgetown\n",
      "Processing Record 21 of Set 3 | ushuaia\n",
      "Processing Record 22 of Set 3 | busselton\n",
      "Processing Record 23 of Set 3 | okhotsk\n",
      "Processing Record 24 of Set 3 | illapel\n",
      "Processing Record 25 of Set 3 | east london\n",
      "Processing Record 26 of Set 3 | padang\n",
      "Processing Record 27 of Set 3 | chokurdakh\n",
      "City not found. Skipping...\n",
      "Processing Record 28 of Set 3 | inhambane\n",
      "Processing Record 29 of Set 3 | albany\n",
      "Processing Record 30 of Set 3 | port elizabeth\n",
      "Processing Record 31 of Set 3 | sakakah\n",
      "Processing Record 32 of Set 3 | rikitea\n",
      "Processing Record 33 of Set 3 | macau\n",
      "Processing Record 34 of Set 3 | sitka\n",
      "Processing Record 35 of Set 3 | kahului\n",
      "Processing Record 36 of Set 3 | barrow\n",
      "Processing Record 37 of Set 3 | yambio\n",
      "Processing Record 38 of Set 3 | kathu\n",
      "Processing Record 39 of Set 3 | thompson\n",
      "Processing Record 40 of Set 3 | daru\n",
      "Processing Record 41 of Set 3 | busselton\n",
      "Processing Record 42 of Set 3 | kumeny\n",
      "Processing Record 43 of Set 3 | severo-kurilsk\n",
      "Processing Record 44 of Set 3 | kavaratti\n",
      "Processing Record 45 of Set 3 | kotido\n",
      "Processing Record 46 of Set 3 | ushuaia\n",
      "Processing Record 47 of Set 3 | hobart\n",
      "Processing Record 48 of Set 3 | mount gambier\n",
      "Processing Record 49 of Set 3 | bluff\n",
      "Processing Record 50 of Set 3 | ushuaia\n",
      "Processing Record 1 of Set 4 | tiksi\n",
      "Processing Record 2 of Set 4 | ceahlau\n",
      "Processing Record 3 of Set 4 | hobart\n",
      "Processing Record 4 of Set 4 | utena\n",
      "Processing Record 5 of Set 4 | ilulissat\n",
      "Processing Record 6 of Set 4 | beringovskiy\n",
      "Processing Record 7 of Set 4 | yellowknife\n",
      "Processing Record 8 of Set 4 | longyearbyen\n",
      "City not found. Skipping...\n",
      "Processing Record 9 of Set 4 | albany\n",
      "Processing Record 10 of Set 4 | norman wells\n",
      "Processing Record 11 of Set 4 | bluff\n",
      "Processing Record 12 of Set 4 | mar del plata\n",
      "Processing Record 13 of Set 4 | yerbogachen\n",
      "Processing Record 14 of Set 4 | palmer\n",
      "Processing Record 15 of Set 4 | loreto\n",
      "Processing Record 16 of Set 4 | vaini\n",
      "Processing Record 17 of Set 4 | milkovo\n",
      "Processing Record 18 of Set 4 | tuktoyaktuk\n",
      "Processing Record 19 of Set 4 | rikitea\n",
      "Processing Record 20 of Set 4 | snezhnogorsk\n",
      "Processing Record 21 of Set 4 | busselton\n",
      "Processing Record 22 of Set 4 | hobart\n",
      "City not found. Skipping...\n",
      "Processing Record 23 of Set 4 | hermanus\n",
      "Processing Record 24 of Set 4 | yellowknife\n",
      "City not found. Skipping...\n",
      "Processing Record 25 of Set 4 | sarab\n",
      "Processing Record 26 of Set 4 | georgetown\n",
      "Processing Record 27 of Set 4 | lompoc\n",
      "Processing Record 28 of Set 4 | pevek\n",
      "City not found. Skipping...\n",
      "City not found. Skipping...\n",
      "Processing Record 29 of Set 4 | camargo\n",
      "Processing Record 30 of Set 4 | ponta do sol\n",
      "Processing Record 31 of Set 4 | lavrentiya\n",
      "Processing Record 32 of Set 4 | albany\n",
      "Processing Record 33 of Set 4 | rikitea\n",
      "Processing Record 34 of Set 4 | bilma\n",
      "Processing Record 35 of Set 4 | victoria\n",
      "City not found. Skipping...\n",
      "Processing Record 36 of Set 4 | jamestown\n"
     ]
    },
    {
     "name": "stdout",
     "output_type": "stream",
     "text": [
      "Processing Record 37 of Set 4 | broken hill\n",
      "Processing Record 38 of Set 4 | gat\n",
      "Processing Record 39 of Set 4 | carnarvon\n",
      "Processing Record 40 of Set 4 | bengkulu\n",
      "Processing Record 41 of Set 4 | nikolskoye\n",
      "Processing Record 42 of Set 4 | kutum\n",
      "Processing Record 43 of Set 4 | batagay\n",
      "Processing Record 44 of Set 4 | omboue\n",
      "Processing Record 45 of Set 4 | itarema\n",
      "City not found. Skipping...\n",
      "Processing Record 46 of Set 4 | hithadhoo\n",
      "Processing Record 47 of Set 4 | vila nova da telha\n",
      "Processing Record 48 of Set 4 | vigrestad\n",
      "Processing Record 49 of Set 4 | puerto madero\n",
      "Processing Record 50 of Set 4 | ilulissat\n",
      "City not found. Skipping...\n",
      "Processing Record 1 of Set 5 | ponta do sol\n",
      "Processing Record 2 of Set 5 | arraial do cabo\n",
      "Processing Record 3 of Set 5 | havre-saint-pierre\n",
      "Processing Record 4 of Set 5 | bathsheba\n",
      "Processing Record 5 of Set 5 | punta arenas\n",
      "Processing Record 6 of Set 5 | cape town\n",
      "Processing Record 7 of Set 5 | muskogee\n",
      "Processing Record 8 of Set 5 | yellowknife\n",
      "Processing Record 9 of Set 5 | hobart\n",
      "Processing Record 10 of Set 5 | hermanus\n",
      "Processing Record 11 of Set 5 | phan thiet\n",
      "Processing Record 12 of Set 5 | zhezkazgan\n",
      "Processing Record 13 of Set 5 | yarega\n",
      "Processing Record 14 of Set 5 | bluff\n",
      "Processing Record 15 of Set 5 | iqaluit\n",
      "Processing Record 16 of Set 5 | busselton\n",
      "Processing Record 17 of Set 5 | smolenka\n",
      "Processing Record 18 of Set 5 | jampur\n",
      "Processing Record 19 of Set 5 | waitati\n",
      "Processing Record 20 of Set 5 | georgetown\n",
      "Processing Record 21 of Set 5 | logrono\n",
      "Processing Record 22 of Set 5 | yar-sale\n",
      "Processing Record 23 of Set 5 | dikson\n",
      "Processing Record 24 of Set 5 | portland\n",
      "City not found. Skipping...\n",
      "Processing Record 25 of Set 5 | matara\n",
      "Processing Record 26 of Set 5 | sosnovo-ozerskoye\n",
      "Processing Record 27 of Set 5 | clyde river\n",
      "Processing Record 28 of Set 5 | hilo\n",
      "Processing Record 29 of Set 5 | cape town\n",
      "Processing Record 30 of Set 5 | busselton\n",
      "Processing Record 31 of Set 5 | ushuaia\n",
      "Processing Record 32 of Set 5 | punta arenas\n",
      "Processing Record 33 of Set 5 | olafsvik\n",
      "Processing Record 34 of Set 5 | bakchar\n",
      "City not found. Skipping...\n",
      "Processing Record 35 of Set 5 | nuevo progreso\n",
      "Processing Record 36 of Set 5 | grindavik\n",
      "Processing Record 37 of Set 5 | atuona\n",
      "Processing Record 38 of Set 5 | saint george\n",
      "Processing Record 39 of Set 5 | yatou\n",
      "City not found. Skipping...\n",
      "City not found. Skipping...\n",
      "City not found. Skipping...\n",
      "Processing Record 40 of Set 5 | lebu\n",
      "Processing Record 41 of Set 5 | busselton\n",
      "Processing Record 42 of Set 5 | tahoua\n",
      "Processing Record 43 of Set 5 | kavaratti\n",
      "Processing Record 44 of Set 5 | hermanus\n",
      "Processing Record 45 of Set 5 | yellowknife\n",
      "Processing Record 46 of Set 5 | tuktoyaktuk\n",
      "Processing Record 47 of Set 5 | hamilton\n",
      "City not found. Skipping...\n",
      "Processing Record 48 of Set 5 | bollnas\n",
      "Processing Record 49 of Set 5 | vaini\n",
      "Processing Record 50 of Set 5 | new norfolk\n",
      "Processing Record 1 of Set 6 | ponta do sol\n",
      "Processing Record 2 of Set 6 | duluth\n",
      "Processing Record 3 of Set 6 | port alfred\n",
      "Processing Record 4 of Set 6 | ushuaia\n",
      "Processing Record 5 of Set 6 | avarua\n",
      "Processing Record 6 of Set 6 | acarau\n",
      "Processing Record 7 of Set 6 | sayyan\n",
      "City not found. Skipping...\n",
      "Processing Record 8 of Set 6 | hobart\n",
      "Processing Record 9 of Set 6 | saskylakh\n",
      "Processing Record 10 of Set 6 | honiara\n",
      "Processing Record 11 of Set 6 | jamestown\n",
      "Processing Record 12 of Set 6 | dingle\n",
      "Processing Record 13 of Set 6 | mayo\n",
      "Processing Record 14 of Set 6 | busselton\n",
      "Processing Record 15 of Set 6 | shklo\n",
      "Processing Record 16 of Set 6 | hithadhoo\n",
      "Processing Record 17 of Set 6 | taoudenni\n",
      "Processing Record 18 of Set 6 | uttaradit\n",
      "Processing Record 19 of Set 6 | rikitea\n",
      "Processing Record 20 of Set 6 | marawi\n",
      "Processing Record 21 of Set 6 | mataura\n",
      "Processing Record 22 of Set 6 | togul\n",
      "Processing Record 23 of Set 6 | albany\n",
      "Processing Record 24 of Set 6 | khatanga\n",
      "Processing Record 25 of Set 6 | carnarvon\n",
      "Processing Record 26 of Set 6 | carnarvon\n",
      "Processing Record 27 of Set 6 | sibolga\n",
      "Processing Record 28 of Set 6 | rocha\n",
      "Processing Record 29 of Set 6 | jamestown\n",
      "Processing Record 30 of Set 6 | hermanus\n",
      "City not found. Skipping...\n",
      "Processing Record 31 of Set 6 | sao joao da barra\n",
      "Processing Record 32 of Set 6 | yellowknife\n",
      "Processing Record 33 of Set 6 | avarua\n",
      "Processing Record 34 of Set 6 | hasaki\n",
      "Processing Record 35 of Set 6 | hokitika\n",
      "Processing Record 36 of Set 6 | pochutla\n",
      "Processing Record 37 of Set 6 | batagay-alyta\n",
      "Processing Record 38 of Set 6 | teknaf\n",
      "Processing Record 39 of Set 6 | preobrazheniye\n",
      "Processing Record 40 of Set 6 | victoria\n",
      "Processing Record 41 of Set 6 | arraial do cabo\n",
      "Processing Record 42 of Set 6 | buala\n",
      "Processing Record 43 of Set 6 | kruisfontein\n",
      "Processing Record 44 of Set 6 | kirkland lake\n",
      "Processing Record 45 of Set 6 | qaanaaq\n",
      "City not found. Skipping...\n",
      "Processing Record 46 of Set 6 | tiksi\n",
      "Processing Record 47 of Set 6 | bloemfontein\n",
      "Processing Record 48 of Set 6 | namtsy\n",
      "Processing Record 49 of Set 6 | caravelas\n",
      "City not found. Skipping...\n",
      "Processing Record 50 of Set 6 | dikson\n",
      "Processing Record 1 of Set 7 | thompson\n",
      "Processing Record 2 of Set 7 | gabi\n",
      "Processing Record 3 of Set 7 | dasoguz\n",
      "Processing Record 4 of Set 7 | fredericton\n",
      "Processing Record 5 of Set 7 | panama city\n",
      "Processing Record 6 of Set 7 | vaini\n",
      "City not found. Skipping...\n",
      "Processing Record 7 of Set 7 | alofi\n",
      "Processing Record 8 of Set 7 | hilo\n",
      "Processing Record 9 of Set 7 | qaanaaq\n",
      "Processing Record 10 of Set 7 | busselton\n",
      "Processing Record 11 of Set 7 | saint-paul\n",
      "Processing Record 12 of Set 7 | vaini\n",
      "Processing Record 13 of Set 7 | shenjiamen\n",
      "Processing Record 14 of Set 7 | yellowknife\n",
      "Processing Record 15 of Set 7 | hilo\n",
      "Processing Record 16 of Set 7 | marau\n",
      "Processing Record 17 of Set 7 | cabo san lucas\n",
      "Processing Record 18 of Set 7 | hamilton\n",
      "Processing Record 19 of Set 7 | mataura\n",
      "Processing Record 20 of Set 7 | luderitz\n",
      "Processing Record 21 of Set 7 | ilulissat\n",
      "Processing Record 22 of Set 7 | usoke\n",
      "Processing Record 23 of Set 7 | busselton\n",
      "Processing Record 24 of Set 7 | linares\n",
      "City not found. Skipping...\n",
      "Processing Record 25 of Set 7 | pontes e lacerda\n",
      "City not found. Skipping...\n",
      "Processing Record 26 of Set 7 | sao joao da barra\n",
      "Processing Record 27 of Set 7 | qaanaaq\n",
      "Processing Record 28 of Set 7 | punta arenas\n",
      "Processing Record 29 of Set 7 | torbay\n",
      "Processing Record 30 of Set 7 | pevek\n",
      "Processing Record 31 of Set 7 | ponta do sol\n",
      "Processing Record 32 of Set 7 | requena\n",
      "Processing Record 33 of Set 7 | egvekinot\n",
      "Processing Record 34 of Set 7 | vasto\n",
      "Processing Record 35 of Set 7 | kavaratti\n",
      "Processing Record 36 of Set 7 | lorengau\n",
      "Processing Record 37 of Set 7 | poso\n",
      "Processing Record 38 of Set 7 | nakamura\n",
      "Processing Record 39 of Set 7 | kodiak\n",
      "Processing Record 40 of Set 7 | oranjemund\n",
      "Processing Record 41 of Set 7 | cayenne\n",
      "Processing Record 42 of Set 7 | klaksvik\n",
      "Processing Record 43 of Set 7 | barrow\n",
      "Processing Record 44 of Set 7 | vitim\n",
      "Processing Record 45 of Set 7 | jamestown\n",
      "Processing Record 46 of Set 7 | hilo\n",
      "City not found. Skipping...\n",
      "Processing Record 47 of Set 7 | xining\n",
      "Processing Record 48 of Set 7 | hermanus\n",
      "Processing Record 49 of Set 7 | jamestown\n",
      "Processing Record 50 of Set 7 | jamestown\n",
      "Processing Record 1 of Set 8 | puro\n",
      "Processing Record 2 of Set 8 | hermanus\n",
      "Processing Record 3 of Set 8 | mareeba\n",
      "Processing Record 4 of Set 8 | dikson\n",
      "Processing Record 5 of Set 8 | dikson\n",
      "Processing Record 6 of Set 8 | hermanus\n",
      "Processing Record 7 of Set 8 | new norfolk\n",
      "Processing Record 8 of Set 8 | albany\n",
      "Processing Record 9 of Set 8 | chuy\n",
      "Processing Record 10 of Set 8 | busselton\n",
      "Processing Record 11 of Set 8 | agadir\n",
      "Processing Record 12 of Set 8 | hermanus\n",
      "Processing Record 13 of Set 8 | marabba\n",
      "Processing Record 14 of Set 8 | mataura\n",
      "Processing Record 15 of Set 8 | verkh-usugli\n",
      "Processing Record 16 of Set 8 | hawkhead\n",
      "Processing Record 17 of Set 8 | banda aceh\n",
      "Processing Record 18 of Set 8 | urucara\n",
      "Processing Record 19 of Set 8 | rikitea\n",
      "Processing Record 20 of Set 8 | chokurdakh\n",
      "Processing Record 21 of Set 8 | provideniya\n",
      "Processing Record 22 of Set 8 | jumla\n",
      "Processing Record 23 of Set 8 | albany\n",
      "City not found. Skipping...\n",
      "Processing Record 24 of Set 8 | coihaique\n",
      "City not found. Skipping...\n"
     ]
    },
    {
     "name": "stdout",
     "output_type": "stream",
     "text": [
      "Processing Record 25 of Set 8 | atuona\n",
      "Processing Record 26 of Set 8 | punta arenas\n",
      "City not found. Skipping...\n",
      "Processing Record 27 of Set 8 | barentu\n",
      "Processing Record 28 of Set 8 | avarua\n",
      "Processing Record 29 of Set 8 | vaini\n",
      "Processing Record 30 of Set 8 | waldkirchen\n",
      "Processing Record 31 of Set 8 | albany\n",
      "Processing Record 32 of Set 8 | provideniya\n",
      "Processing Record 33 of Set 8 | dalbandin\n",
      "Processing Record 34 of Set 8 | hithadhoo\n",
      "Processing Record 35 of Set 8 | rikitea\n",
      "Processing Record 36 of Set 8 | rikitea\n",
      "Processing Record 37 of Set 8 | mayo\n",
      "Processing Record 38 of Set 8 | cochrane\n",
      "City not found. Skipping...\n",
      "Processing Record 39 of Set 8 | puerto ayora\n",
      "Processing Record 40 of Set 8 | bulaevo\n",
      "Processing Record 41 of Set 8 | atuona\n",
      "Processing Record 42 of Set 8 | ushuaia\n",
      "Processing Record 43 of Set 8 | bredasdorp\n",
      "Processing Record 44 of Set 8 | hobart\n",
      "Processing Record 45 of Set 8 | albany\n",
      "Processing Record 46 of Set 8 | anadyr\n",
      "Processing Record 47 of Set 8 | yurginskoye\n",
      "Processing Record 48 of Set 8 | avarua\n",
      "Processing Record 49 of Set 8 | ushuaia\n",
      "Processing Record 50 of Set 8 | severo-kurilsk\n",
      "Processing Record 1 of Set 9 | castro\n",
      "Processing Record 2 of Set 9 | concarneau\n",
      "Processing Record 3 of Set 9 | rikitea\n",
      "Processing Record 4 of Set 9 | tura\n",
      "Processing Record 5 of Set 9 | mataura\n",
      "City not found. Skipping...\n",
      "Processing Record 6 of Set 9 | luderitz\n",
      "Processing Record 7 of Set 9 | nikolskoye\n",
      "Processing Record 8 of Set 9 | mango\n",
      "Processing Record 9 of Set 9 | atuona\n",
      "Processing Record 10 of Set 9 | rikitea\n",
      "Processing Record 11 of Set 9 | tyup\n",
      "Processing Record 12 of Set 9 | ponta do sol\n",
      "Processing Record 13 of Set 9 | naron\n",
      "Processing Record 14 of Set 9 | victoria\n",
      "Processing Record 15 of Set 9 | atuona\n",
      "Processing Record 16 of Set 9 | bluff\n",
      "Processing Record 17 of Set 9 | ushuaia\n",
      "Processing Record 18 of Set 9 | xai-xai\n",
      "Processing Record 19 of Set 9 | vila\n",
      "Processing Record 20 of Set 9 | hami\n",
      "Processing Record 21 of Set 9 | mattawa\n",
      "Processing Record 22 of Set 9 | souillac\n",
      "Processing Record 23 of Set 9 | rikitea\n",
      "Processing Record 24 of Set 9 | ushuaia\n",
      "Processing Record 25 of Set 9 | calabozo\n",
      "Processing Record 26 of Set 9 | torbay\n",
      "Processing Record 27 of Set 9 | lavrentiya\n",
      "Processing Record 28 of Set 9 | chicama\n",
      "Processing Record 29 of Set 9 | bluff\n",
      "Processing Record 30 of Set 9 | cayenne\n",
      "Processing Record 31 of Set 9 | tura\n",
      "Processing Record 32 of Set 9 | leningradskiy\n",
      "Processing Record 33 of Set 9 | mar del plata\n",
      "Processing Record 34 of Set 9 | syracuse\n",
      "Processing Record 35 of Set 9 | vaini\n",
      "Processing Record 36 of Set 9 | bongaree\n",
      "Processing Record 37 of Set 9 | hualmay\n",
      "Processing Record 38 of Set 9 | busselton\n",
      "City not found. Skipping...\n",
      "Processing Record 39 of Set 9 | mataura\n",
      "Processing Record 40 of Set 9 | franca\n",
      "Processing Record 41 of Set 9 | mataura\n",
      "Processing Record 42 of Set 9 | san quintin\n",
      "Processing Record 43 of Set 9 | vagay\n",
      "Processing Record 44 of Set 9 | bethel\n",
      "Processing Record 45 of Set 9 | ushuaia\n",
      "Processing Record 46 of Set 9 | atuona\n",
      "Processing Record 47 of Set 9 | new norfolk\n",
      "Processing Record 48 of Set 9 | esperance\n",
      "Processing Record 49 of Set 9 | ushuaia\n",
      "Processing Record 50 of Set 9 | rikitea\n",
      "Processing Record 1 of Set 10 | thompson\n",
      "Processing Record 2 of Set 10 | cayenne\n",
      "Processing Record 3 of Set 10 | castro\n",
      "Processing Record 4 of Set 10 | iberia\n",
      "City not found. Skipping...\n",
      "Processing Record 5 of Set 10 | ushuaia\n",
      "Processing Record 6 of Set 10 | santa maria del oro\n",
      "Processing Record 7 of Set 10 | khatanga\n",
      "Processing Record 8 of Set 10 | daru\n",
      "Processing Record 9 of Set 10 | kaitangata\n",
      "Processing Record 10 of Set 10 | vaini\n",
      "City not found. Skipping...\n",
      "Processing Record 11 of Set 10 | saint-philippe\n",
      "Processing Record 12 of Set 10 | hay river\n",
      "Processing Record 13 of Set 10 | gazanjyk\n",
      "Processing Record 14 of Set 10 | ayan\n",
      "Processing Record 15 of Set 10 | albany\n",
      "Processing Record 16 of Set 10 | sorland\n",
      "Processing Record 17 of Set 10 | georgetown\n",
      "Processing Record 18 of Set 10 | chokurdakh\n",
      "Processing Record 19 of Set 10 | port alfred\n",
      "Processing Record 20 of Set 10 | thompson\n",
      "City not found. Skipping...\n",
      "Processing Record 21 of Set 10 | saskylakh\n",
      "Processing Record 22 of Set 10 | pochutla\n",
      "Processing Record 23 of Set 10 | east london\n",
      "Processing Record 24 of Set 10 | hobart\n",
      "Processing Record 25 of Set 10 | sao gabriel da cachoeira\n",
      "City not found. Skipping...\n",
      "Processing Record 26 of Set 10 | kaiserslautern\n",
      "Processing Record 27 of Set 10 | hay river\n",
      "Processing Record 28 of Set 10 | bredasdorp\n",
      "Processing Record 29 of Set 10 | albany\n",
      "Processing Record 30 of Set 10 | kapaa\n",
      "Processing Record 31 of Set 10 | rikitea\n",
      "City not found. Skipping...\n",
      "City not found. Skipping...\n",
      "Processing Record 32 of Set 10 | bowen\n",
      "Processing Record 33 of Set 10 | mataura\n",
      "Processing Record 34 of Set 10 | punta arenas\n",
      "Processing Record 35 of Set 10 | cidreira\n",
      "Processing Record 36 of Set 10 | iberia\n",
      "City not found. Skipping...\n",
      "Processing Record 37 of Set 10 | ahipara\n",
      "Processing Record 38 of Set 10 | richards bay\n",
      "Processing Record 39 of Set 10 | qaanaaq\n",
      "Processing Record 40 of Set 10 | longyearbyen\n",
      "Processing Record 41 of Set 10 | sao filipe\n",
      "Processing Record 42 of Set 10 | atuona\n",
      "Processing Record 43 of Set 10 | qaqortoq\n",
      "City not found. Skipping...\n",
      "Processing Record 44 of Set 10 | torbay\n",
      "Processing Record 45 of Set 10 | moanda\n",
      "Processing Record 46 of Set 10 | sola\n",
      "Processing Record 47 of Set 10 | ribeira grande\n",
      "Processing Record 48 of Set 10 | busselton\n",
      "Processing Record 49 of Set 10 | hobart\n",
      "City not found. Skipping...\n",
      "Processing Record 50 of Set 10 | sabinas hidalgo\n",
      "Processing Record 1 of Set 11 | rikitea\n",
      "Processing Record 2 of Set 11 | norman wells\n",
      "Processing Record 3 of Set 11 | bluff\n",
      "Processing Record 4 of Set 11 | port elizabeth\n",
      "Processing Record 5 of Set 11 | rikitea\n",
      "Processing Record 6 of Set 11 | ushuaia\n",
      "Processing Record 7 of Set 11 | udachnyy\n",
      "Processing Record 8 of Set 11 | vaini\n",
      "Processing Record 9 of Set 11 | flin flon\n",
      "Processing Record 10 of Set 11 | matamoros\n",
      "Processing Record 11 of Set 11 | avera\n",
      "Processing Record 12 of Set 11 | kapaa\n",
      "Processing Record 13 of Set 11 | rikitea\n",
      "Processing Record 14 of Set 11 | cape town\n",
      "Processing Record 15 of Set 11 | oakdale\n",
      "Processing Record 16 of Set 11 | atbasar\n",
      "Processing Record 17 of Set 11 | cholet\n",
      "Processing Record 18 of Set 11 | mataura\n",
      "Processing Record 19 of Set 11 | camrose\n",
      "Processing Record 20 of Set 11 | la romana\n",
      "Processing Record 21 of Set 11 | nikolskoye\n",
      "Processing Record 22 of Set 11 | mpika\n",
      "Processing Record 23 of Set 11 | mataura\n",
      "Processing Record 24 of Set 11 | vaini\n",
      "Processing Record 25 of Set 11 | ushuaia\n",
      "Processing Record 26 of Set 11 | valleyview\n",
      "Processing Record 27 of Set 11 | sefton\n",
      "Processing Record 28 of Set 11 | busselton\n",
      "City not found. Skipping...\n",
      "City not found. Skipping...\n",
      "Processing Record 29 of Set 11 | khatanga\n",
      "Processing Record 30 of Set 11 | yantal\n",
      "Processing Record 31 of Set 11 | albany\n",
      "Processing Record 32 of Set 11 | rock sound\n",
      "Processing Record 33 of Set 11 | tasiilaq\n",
      "Processing Record 34 of Set 11 | rikitea\n",
      "Processing Record 35 of Set 11 | upernavik\n",
      "City not found. Skipping...\n",
      "Processing Record 36 of Set 11 | mikkeli\n",
      "Processing Record 37 of Set 11 | souillac\n",
      "Processing Record 38 of Set 11 | tiksi\n",
      "Processing Record 39 of Set 11 | rikitea\n",
      "Processing Record 40 of Set 11 | ranong\n",
      "City not found. Skipping...\n",
      "Processing Record 41 of Set 11 | saint george\n",
      "Processing Record 42 of Set 11 | rikitea\n",
      "Processing Record 43 of Set 11 | khatanga\n",
      "City not found. Skipping...\n",
      "Processing Record 44 of Set 11 | ulaangom\n",
      "Processing Record 45 of Set 11 | provideniya\n",
      "Processing Record 46 of Set 11 | port alfred\n",
      "Processing Record 47 of Set 11 | rikitea\n",
      "Processing Record 48 of Set 11 | yerbogachen\n",
      "Processing Record 49 of Set 11 | ushuaia\n",
      "Processing Record 50 of Set 11 | saint-joseph\n",
      "Processing Record 1 of Set 12 | chokurdakh\n",
      "Processing Record 2 of Set 12 | tuktoyaktuk\n",
      "Processing Record 3 of Set 12 | plettenberg bay\n",
      "Processing Record 4 of Set 12 | saint-philippe\n",
      "Processing Record 5 of Set 12 | bluff\n",
      "City not found. Skipping...\n",
      "Processing Record 6 of Set 12 | iqaluit\n",
      "Processing Record 7 of Set 12 | broome\n",
      "Processing Record 8 of Set 12 | yar-sale\n",
      "Processing Record 9 of Set 12 | cape town\n",
      "City not found. Skipping...\n"
     ]
    },
    {
     "name": "stdout",
     "output_type": "stream",
     "text": [
      "Processing Record 10 of Set 12 | arraial do cabo\n",
      "Processing Record 11 of Set 12 | san fernando\n",
      "Processing Record 12 of Set 12 | atuona\n",
      "Processing Record 13 of Set 12 | coihaique\n",
      "Processing Record 14 of Set 12 | vestmannaeyjar\n",
      "City not found. Skipping...\n",
      "Processing Record 15 of Set 12 | bambous virieux\n",
      "Processing Record 16 of Set 12 | jamestown\n",
      "Processing Record 17 of Set 12 | kondinskoye\n",
      "Processing Record 18 of Set 12 | saldanha\n",
      "Processing Record 19 of Set 12 | poum\n",
      "Processing Record 20 of Set 12 | hilo\n",
      "Processing Record 21 of Set 12 | rikitea\n",
      "City not found. Skipping...\n",
      "Processing Record 22 of Set 12 | ratnapura\n",
      "City not found. Skipping...\n",
      "Processing Record 23 of Set 12 | faanui\n",
      "Processing Record 24 of Set 12 | atuona\n",
      "Processing Record 25 of Set 12 | vila franca do campo\n",
      "Processing Record 26 of Set 12 | mataura\n",
      "Processing Record 27 of Set 12 | kapaa\n",
      "Processing Record 28 of Set 12 | san lorenzo\n",
      "Processing Record 29 of Set 12 | port elizabeth\n",
      "Processing Record 30 of Set 12 | kidal\n",
      "Processing Record 31 of Set 12 | saskylakh\n",
      "Processing Record 32 of Set 12 | woodward\n",
      "Processing Record 33 of Set 12 | faya\n",
      "City not found. Skipping...\n",
      "Processing Record 34 of Set 12 | yar-sale\n",
      "Processing Record 35 of Set 12 | muriwai beach\n",
      "Processing Record 36 of Set 12 | magburaka\n",
      "Processing Record 37 of Set 12 | georgetown\n",
      "Processing Record 38 of Set 12 | ambulu\n",
      "Processing Record 39 of Set 12 | ilulissat\n",
      "Processing Record 40 of Set 12 | mataura\n",
      "\n",
      "------------------------------------\n",
      "Data Retrieval Complete\n",
      "------------------------------------\n"
     ]
    }
   ],
   "source": [
    "# Loop through each cities\n",
    "print(\"Beginning Data Retrieval\")\n",
    "print(\"---------------------------\")\n",
    "for city in cities:\n",
    "    \n",
    "    # Create search query, make request and store in json\n",
    "    query = query_url + city.city_name\n",
    "    response = requests.get(query)\n",
    "    response_json = response.json()\n",
    "    \n",
    "    # Try to grab the info if the city exist on the weathermap API\n",
    "    try:\n",
    "        cities_list.append(response_json['name'])\n",
    "        lat.append(response_json['coord']['lat'])\n",
    "        lng.append(response_json['coord']['lon'])\n",
    "        max_temp.append(response_json['main']['temp_max'])\n",
    "        humidity.append(response_json['main']['humidity'])\n",
    "        cloudiness.append(response_json['clouds']['all'])\n",
    "        wind_speed.append(response_json['wind']['speed'])\n",
    "        country_code.append(response_json['sys']['country'])\n",
    "        date.append(response_json['dt'])\n",
    "        print(f\"Processing Record {count} of Set {set_count} | {city.city_name}\")\n",
    "        count = count + 1\n",
    "        if count > 50:\n",
    "            set_count = set_count + 1\n",
    "            count = 1\n",
    "        \n",
    "    # Handle exceptions for a city that is not available in the Weathermap API\n",
    "    except:\n",
    "        # Append null values\n",
    "        print(\"City not found. Skipping...\")\n",
    "        pass\n",
    "    \n",
    "print('''\n",
    "------------------------------------\n",
    "Data Retrieval Complete\n",
    "------------------------------------''')"
   ]
  },
  {
   "cell_type": "markdown",
   "metadata": {},
   "source": [
    "### Convert Raw Data to DataFrame\n",
    "* Export the city data into a .csv.\n",
    "* Display the DataFrame"
   ]
  },
  {
   "cell_type": "code",
   "execution_count": 39,
   "metadata": {
    "scrolled": true
   },
   "outputs": [
    {
     "data": {
      "text/html": [
       "<div>\n",
       "<style scoped>\n",
       "    .dataframe tbody tr th:only-of-type {\n",
       "        vertical-align: middle;\n",
       "    }\n",
       "\n",
       "    .dataframe tbody tr th {\n",
       "        vertical-align: top;\n",
       "    }\n",
       "\n",
       "    .dataframe thead th {\n",
       "        text-align: right;\n",
       "    }\n",
       "</style>\n",
       "<table border=\"1\" class=\"dataframe\">\n",
       "  <thead>\n",
       "    <tr style=\"text-align: right;\">\n",
       "      <th></th>\n",
       "      <th>City</th>\n",
       "      <th>Lat</th>\n",
       "      <th>Lng</th>\n",
       "      <th>Max Temp</th>\n",
       "      <th>Humidity</th>\n",
       "      <th>Cloudiness</th>\n",
       "      <th>Wind Speed</th>\n",
       "      <th>Country</th>\n",
       "      <th>Date</th>\n",
       "    </tr>\n",
       "  </thead>\n",
       "  <tbody>\n",
       "    <tr>\n",
       "      <th>0</th>\n",
       "      <td>Qaanaaq</td>\n",
       "      <td>77.48</td>\n",
       "      <td>-69.36</td>\n",
       "      <td>-4.75</td>\n",
       "      <td>81</td>\n",
       "      <td>5</td>\n",
       "      <td>2.88</td>\n",
       "      <td>GL</td>\n",
       "      <td>1602827876</td>\n",
       "    </tr>\n",
       "    <tr>\n",
       "      <th>1</th>\n",
       "      <td>Kirksville</td>\n",
       "      <td>40.19</td>\n",
       "      <td>-92.58</td>\n",
       "      <td>3.33</td>\n",
       "      <td>74</td>\n",
       "      <td>1</td>\n",
       "      <td>2.10</td>\n",
       "      <td>US</td>\n",
       "      <td>1602828007</td>\n",
       "    </tr>\n",
       "    <tr>\n",
       "      <th>2</th>\n",
       "      <td>Mataura</td>\n",
       "      <td>-46.19</td>\n",
       "      <td>168.86</td>\n",
       "      <td>8.89</td>\n",
       "      <td>85</td>\n",
       "      <td>100</td>\n",
       "      <td>4.02</td>\n",
       "      <td>NZ</td>\n",
       "      <td>1602828143</td>\n",
       "    </tr>\n",
       "    <tr>\n",
       "      <th>3</th>\n",
       "      <td>Coahuayana Viejo</td>\n",
       "      <td>18.73</td>\n",
       "      <td>-103.68</td>\n",
       "      <td>25.72</td>\n",
       "      <td>89</td>\n",
       "      <td>98</td>\n",
       "      <td>1.44</td>\n",
       "      <td>MX</td>\n",
       "      <td>1602828144</td>\n",
       "    </tr>\n",
       "    <tr>\n",
       "      <th>4</th>\n",
       "      <td>Mae Hong Son</td>\n",
       "      <td>19.30</td>\n",
       "      <td>97.97</td>\n",
       "      <td>30.00</td>\n",
       "      <td>66</td>\n",
       "      <td>40</td>\n",
       "      <td>2.10</td>\n",
       "      <td>TH</td>\n",
       "      <td>1602828144</td>\n",
       "    </tr>\n",
       "  </tbody>\n",
       "</table>\n",
       "</div>"
      ],
      "text/plain": [
       "               City    Lat     Lng  Max Temp  Humidity  Cloudiness  \\\n",
       "0           Qaanaaq  77.48  -69.36     -4.75        81           5   \n",
       "1        Kirksville  40.19  -92.58      3.33        74           1   \n",
       "2           Mataura -46.19  168.86      8.89        85         100   \n",
       "3  Coahuayana Viejo  18.73 -103.68     25.72        89          98   \n",
       "4      Mae Hong Son  19.30   97.97     30.00        66          40   \n",
       "\n",
       "   Wind Speed Country        Date  \n",
       "0        2.88      GL  1602827876  \n",
       "1        2.10      US  1602828007  \n",
       "2        4.02      NZ  1602828143  \n",
       "3        1.44      MX  1602828144  \n",
       "4        2.10      TH  1602828144  "
      ]
     },
     "execution_count": 39,
     "metadata": {},
     "output_type": "execute_result"
    }
   ],
   "source": [
    "# Creating Dataframe\n",
    "df_weather_data = pd.DataFrame({\"City\": cities_list, \"Lat\":lat, \"Lng\":lng, \"Max Temp\":max_temp, \"Humidity\":humidity, \"Cloudiness\":cloudiness, \"Wind Speed\":wind_speed, \"Country\":country_code, \"Date\":date})\n",
    "df_weather_data.head()"
   ]
  },
  {
   "cell_type": "code",
   "execution_count": 40,
   "metadata": {},
   "outputs": [],
   "source": [
    "# Export to csv without index\n",
    "df_weather_data.to_csv('weather_data.csv', index = False)"
   ]
  },
  {
   "cell_type": "markdown",
   "metadata": {},
   "source": [
    "This is the checkpoint. Using data from CSV file to recreate the data for random cities from previous day"
   ]
  },
  {
   "cell_type": "code",
   "execution_count": 4,
   "metadata": {},
   "outputs": [
    {
     "data": {
      "text/html": [
       "<div>\n",
       "<style scoped>\n",
       "    .dataframe tbody tr th:only-of-type {\n",
       "        vertical-align: middle;\n",
       "    }\n",
       "\n",
       "    .dataframe tbody tr th {\n",
       "        vertical-align: top;\n",
       "    }\n",
       "\n",
       "    .dataframe thead th {\n",
       "        text-align: right;\n",
       "    }\n",
       "</style>\n",
       "<table border=\"1\" class=\"dataframe\">\n",
       "  <thead>\n",
       "    <tr style=\"text-align: right;\">\n",
       "      <th></th>\n",
       "      <th>City</th>\n",
       "      <th>Lat</th>\n",
       "      <th>Lng</th>\n",
       "      <th>Max Temp</th>\n",
       "      <th>Humidity</th>\n",
       "      <th>Cloudiness</th>\n",
       "      <th>Wind Speed</th>\n",
       "      <th>Country</th>\n",
       "      <th>Date</th>\n",
       "    </tr>\n",
       "  </thead>\n",
       "  <tbody>\n",
       "    <tr>\n",
       "      <th>0</th>\n",
       "      <td>Qaanaaq</td>\n",
       "      <td>77.48</td>\n",
       "      <td>-69.36</td>\n",
       "      <td>-4.75</td>\n",
       "      <td>81</td>\n",
       "      <td>5</td>\n",
       "      <td>2.88</td>\n",
       "      <td>GL</td>\n",
       "      <td>1602827876</td>\n",
       "    </tr>\n",
       "    <tr>\n",
       "      <th>1</th>\n",
       "      <td>Kirksville</td>\n",
       "      <td>40.19</td>\n",
       "      <td>-92.58</td>\n",
       "      <td>3.33</td>\n",
       "      <td>74</td>\n",
       "      <td>1</td>\n",
       "      <td>2.10</td>\n",
       "      <td>US</td>\n",
       "      <td>1602828007</td>\n",
       "    </tr>\n",
       "    <tr>\n",
       "      <th>2</th>\n",
       "      <td>Mataura</td>\n",
       "      <td>-46.19</td>\n",
       "      <td>168.86</td>\n",
       "      <td>8.89</td>\n",
       "      <td>85</td>\n",
       "      <td>100</td>\n",
       "      <td>4.02</td>\n",
       "      <td>NZ</td>\n",
       "      <td>1602828143</td>\n",
       "    </tr>\n",
       "    <tr>\n",
       "      <th>3</th>\n",
       "      <td>Coahuayana Viejo</td>\n",
       "      <td>18.73</td>\n",
       "      <td>-103.68</td>\n",
       "      <td>25.72</td>\n",
       "      <td>89</td>\n",
       "      <td>98</td>\n",
       "      <td>1.44</td>\n",
       "      <td>MX</td>\n",
       "      <td>1602828144</td>\n",
       "    </tr>\n",
       "    <tr>\n",
       "      <th>4</th>\n",
       "      <td>Mae Hong Son</td>\n",
       "      <td>19.30</td>\n",
       "      <td>97.97</td>\n",
       "      <td>30.00</td>\n",
       "      <td>66</td>\n",
       "      <td>40</td>\n",
       "      <td>2.10</td>\n",
       "      <td>TH</td>\n",
       "      <td>1602828144</td>\n",
       "    </tr>\n",
       "  </tbody>\n",
       "</table>\n",
       "</div>"
      ],
      "text/plain": [
       "               City    Lat     Lng  Max Temp  Humidity  Cloudiness  \\\n",
       "0           Qaanaaq  77.48  -69.36     -4.75        81           5   \n",
       "1        Kirksville  40.19  -92.58      3.33        74           1   \n",
       "2           Mataura -46.19  168.86      8.89        85         100   \n",
       "3  Coahuayana Viejo  18.73 -103.68     25.72        89          98   \n",
       "4      Mae Hong Son  19.30   97.97     30.00        66          40   \n",
       "\n",
       "   Wind Speed Country        Date  \n",
       "0        2.88      GL  1602827876  \n",
       "1        2.10      US  1602828007  \n",
       "2        4.02      NZ  1602828143  \n",
       "3        1.44      MX  1602828144  \n",
       "4        2.10      TH  1602828144  "
      ]
     },
     "execution_count": 4,
     "metadata": {},
     "output_type": "execute_result"
    }
   ],
   "source": [
    "df_weather_data = pd.read_csv(\"weather_data.csv\")\n",
    "df_weather_data.head()"
   ]
  },
  {
   "cell_type": "code",
   "execution_count": 6,
   "metadata": {},
   "outputs": [
    {
     "data": {
      "text/html": [
       "<div>\n",
       "<style scoped>\n",
       "    .dataframe tbody tr th:only-of-type {\n",
       "        vertical-align: middle;\n",
       "    }\n",
       "\n",
       "    .dataframe tbody tr th {\n",
       "        vertical-align: top;\n",
       "    }\n",
       "\n",
       "    .dataframe thead th {\n",
       "        text-align: right;\n",
       "    }\n",
       "</style>\n",
       "<table border=\"1\" class=\"dataframe\">\n",
       "  <thead>\n",
       "    <tr style=\"text-align: right;\">\n",
       "      <th></th>\n",
       "      <th>Lat</th>\n",
       "      <th>Lng</th>\n",
       "      <th>Max Temp</th>\n",
       "      <th>Humidity</th>\n",
       "      <th>Cloudiness</th>\n",
       "      <th>Wind Speed</th>\n",
       "      <th>Date</th>\n",
       "    </tr>\n",
       "  </thead>\n",
       "  <tbody>\n",
       "    <tr>\n",
       "      <th>count</th>\n",
       "      <td>590.000000</td>\n",
       "      <td>590.000000</td>\n",
       "      <td>590.000000</td>\n",
       "      <td>590.000000</td>\n",
       "      <td>590.000000</td>\n",
       "      <td>590.000000</td>\n",
       "      <td>5.900000e+02</td>\n",
       "    </tr>\n",
       "    <tr>\n",
       "      <th>mean</th>\n",
       "      <td>10.881508</td>\n",
       "      <td>1.164847</td>\n",
       "      <td>14.526508</td>\n",
       "      <td>74.616949</td>\n",
       "      <td>59.793220</td>\n",
       "      <td>4.236407</td>\n",
       "      <td>1.602828e+09</td>\n",
       "    </tr>\n",
       "    <tr>\n",
       "      <th>std</th>\n",
       "      <td>40.722315</td>\n",
       "      <td>104.331783</td>\n",
       "      <td>11.303919</td>\n",
       "      <td>19.135627</td>\n",
       "      <td>37.429385</td>\n",
       "      <td>2.540453</td>\n",
       "      <td>1.047902e+02</td>\n",
       "    </tr>\n",
       "    <tr>\n",
       "      <th>min</th>\n",
       "      <td>-54.800000</td>\n",
       "      <td>-179.170000</td>\n",
       "      <td>-15.950000</td>\n",
       "      <td>10.000000</td>\n",
       "      <td>0.000000</td>\n",
       "      <td>0.300000</td>\n",
       "      <td>1.602828e+09</td>\n",
       "    </tr>\n",
       "    <tr>\n",
       "      <th>25%</th>\n",
       "      <td>-24.850000</td>\n",
       "      <td>-79.240000</td>\n",
       "      <td>6.000000</td>\n",
       "      <td>66.000000</td>\n",
       "      <td>20.000000</td>\n",
       "      <td>2.242500</td>\n",
       "      <td>1.602828e+09</td>\n",
       "    </tr>\n",
       "    <tr>\n",
       "      <th>50%</th>\n",
       "      <td>10.965000</td>\n",
       "      <td>9.995000</td>\n",
       "      <td>16.335000</td>\n",
       "      <td>77.000000</td>\n",
       "      <td>75.000000</td>\n",
       "      <td>3.600000</td>\n",
       "      <td>1.602828e+09</td>\n",
       "    </tr>\n",
       "    <tr>\n",
       "      <th>75%</th>\n",
       "      <td>47.545000</td>\n",
       "      <td>102.145000</td>\n",
       "      <td>23.560000</td>\n",
       "      <td>88.000000</td>\n",
       "      <td>91.000000</td>\n",
       "      <td>5.760000</td>\n",
       "      <td>1.602828e+09</td>\n",
       "    </tr>\n",
       "    <tr>\n",
       "      <th>max</th>\n",
       "      <td>78.220000</td>\n",
       "      <td>179.320000</td>\n",
       "      <td>38.000000</td>\n",
       "      <td>100.000000</td>\n",
       "      <td>100.000000</td>\n",
       "      <td>12.000000</td>\n",
       "      <td>1.602828e+09</td>\n",
       "    </tr>\n",
       "  </tbody>\n",
       "</table>\n",
       "</div>"
      ],
      "text/plain": [
       "              Lat         Lng    Max Temp    Humidity  Cloudiness  Wind Speed  \\\n",
       "count  590.000000  590.000000  590.000000  590.000000  590.000000  590.000000   \n",
       "mean    10.881508    1.164847   14.526508   74.616949   59.793220    4.236407   \n",
       "std     40.722315  104.331783   11.303919   19.135627   37.429385    2.540453   \n",
       "min    -54.800000 -179.170000  -15.950000   10.000000    0.000000    0.300000   \n",
       "25%    -24.850000  -79.240000    6.000000   66.000000   20.000000    2.242500   \n",
       "50%     10.965000    9.995000   16.335000   77.000000   75.000000    3.600000   \n",
       "75%     47.545000  102.145000   23.560000   88.000000   91.000000    5.760000   \n",
       "max     78.220000  179.320000   38.000000  100.000000  100.000000   12.000000   \n",
       "\n",
       "               Date  \n",
       "count  5.900000e+02  \n",
       "mean   1.602828e+09  \n",
       "std    1.047902e+02  \n",
       "min    1.602828e+09  \n",
       "25%    1.602828e+09  \n",
       "50%    1.602828e+09  \n",
       "75%    1.602828e+09  \n",
       "max    1.602828e+09  "
      ]
     },
     "execution_count": 6,
     "metadata": {},
     "output_type": "execute_result"
    }
   ],
   "source": [
    "df_weather_data.describe(include=[np.number])"
   ]
  },
  {
   "cell_type": "markdown",
   "metadata": {},
   "source": [
    "## Inspect the data and remove the cities where the humidity > 100%.\n",
    "----\n",
    "Skip this step if there are no cities that have humidity > 100%. "
   ]
  },
  {
   "cell_type": "code",
   "execution_count": 10,
   "metadata": {},
   "outputs": [
    {
     "data": {
      "text/html": [
       "<div>\n",
       "<style scoped>\n",
       "    .dataframe tbody tr th:only-of-type {\n",
       "        vertical-align: middle;\n",
       "    }\n",
       "\n",
       "    .dataframe tbody tr th {\n",
       "        vertical-align: top;\n",
       "    }\n",
       "\n",
       "    .dataframe thead th {\n",
       "        text-align: right;\n",
       "    }\n",
       "</style>\n",
       "<table border=\"1\" class=\"dataframe\">\n",
       "  <thead>\n",
       "    <tr style=\"text-align: right;\">\n",
       "      <th></th>\n",
       "      <th>City</th>\n",
       "      <th>Lat</th>\n",
       "      <th>Lng</th>\n",
       "      <th>Max Temp</th>\n",
       "      <th>Humidity</th>\n",
       "      <th>Cloudiness</th>\n",
       "      <th>Wind Speed</th>\n",
       "      <th>Country</th>\n",
       "      <th>Date</th>\n",
       "    </tr>\n",
       "  </thead>\n",
       "  <tbody>\n",
       "  </tbody>\n",
       "</table>\n",
       "</div>"
      ],
      "text/plain": [
       "Empty DataFrame\n",
       "Columns: [City, Lat, Lng, Max Temp, Humidity, Cloudiness, Wind Speed, Country, Date]\n",
       "Index: []"
      ]
     },
     "execution_count": 10,
     "metadata": {},
     "output_type": "execute_result"
    }
   ],
   "source": [
    "# Check to see if we have data with humidity > 100%\n",
    "df_weather_data[df_weather_data[\"Humidity\"] > 100]"
   ]
  },
  {
   "cell_type": "markdown",
   "metadata": {},
   "source": [
    "As we don't have any data with humidity greater than 100, these steps are skipped."
   ]
  },
  {
   "cell_type": "code",
   "execution_count": null,
   "metadata": {},
   "outputs": [],
   "source": [
    "\n"
   ]
  },
  {
   "cell_type": "markdown",
   "metadata": {},
   "source": [
    "## Plotting the Data\n",
    "* Use proper labeling of the plots using plot titles (including date of analysis) and axes labels.\n",
    "* Save the plotted figures as .pngs."
   ]
  },
  {
   "cell_type": "markdown",
   "metadata": {},
   "source": [
    "## Latitude vs. Temperature Plot"
   ]
  },
  {
   "cell_type": "code",
   "execution_count": 15,
   "metadata": {
    "scrolled": true
   },
   "outputs": [
    {
     "data": {
      "image/png": "[encoded data removed]",
      "text/plain": [
       "<Figure size 576x360 with 1 Axes>"
      ]
     },
     "metadata": {
      "needs_background": "light"
     },
     "output_type": "display_data"
    }
   ],
   "source": [
    "fig1, ax1 = plt.subplots(figsize=(8,5))\n",
    "ax1.scatter(df_weather_data['Lat'], df_weather_data['Max Temp'], edgecolors = 'black')\n",
    "ax1.grid(which='major')\n",
    "ax1.set(xlabel = \"Latitude\", ylabel = \"Max Temperature (C)\", title = \"City Latitude vs. Max Temperature\");"
   ]
  },
  {
   "cell_type": "markdown",
   "metadata": {},
   "source": [
    "From the trend, the closer the cities are to the equator, the higher the max temperature for those cities. As cities get closer to the north or south pole (further away from equator) the lower the max temperature for the cities."
   ]
  },
  {
   "cell_type": "markdown",
   "metadata": {},
   "source": [
    "## Latitude vs. Humidity Plot"
   ]
  },
  {
   "cell_type": "code",
   "execution_count": 17,
   "metadata": {
    "scrolled": true
   },
   "outputs": [
    {
     "data": {
      "image/png": "[encoded data removed]",
      "text/plain": [
       "<Figure size 576x360 with 1 Axes>"
      ]
     },
     "metadata": {
      "needs_background": "light"
     },
     "output_type": "display_data"
    }
   ],
   "source": [
    "fig2, ax2 = plt.subplots(figsize=(8,5))\n",
    "ax2.scatter(df_weather_data['Lat'], df_weather_data['Humidity'], edgecolors = 'black')\n",
    "ax2.grid(which='major')\n",
    "ax2.set(xlabel = \"Latitude\", ylabel = \"Humidity(%)\", title = \"City Latitude vs. Humidity\");"
   ]
  },
  {
   "cell_type": "markdown",
   "metadata": {},
   "source": [
    "There seems to be no correlation between latitude and humidity. The only thing that we can extract from this is that there are a lot of cities with high humidity and all the cities with low humidity tend to be at +- 20 degree from the equator."
   ]
  },
  {
   "cell_type": "markdown",
   "metadata": {},
   "source": [
    "## Latitude vs. Cloudiness Plot"
   ]
  },
  {
   "cell_type": "code",
   "execution_count": 18,
   "metadata": {
    "scrolled": false
   },
   "outputs": [
    {
     "data": {
      "image/png": "[encoded data removed]",
      "text/plain": [
       "<Figure size 576x360 with 1 Axes>"
      ]
     },
     "metadata": {
      "needs_background": "light"
     },
     "output_type": "display_data"
    }
   ],
   "source": [
    "fig3, ax3 = plt.subplots(figsize=(8,5))\n",
    "ax3.scatter(df_weather_data['Lat'], df_weather_data['Cloudiness'], edgecolors = 'black')\n",
    "ax3.grid(which='major')\n",
    "ax3.set(xlabel = \"Latitude\", ylabel = \"Cloudiness(%)\", title = \"City Latitude vs. Cloudiness\");"
   ]
  },
  {
   "cell_type": "markdown",
   "metadata": {},
   "source": [
    "There seems to be high number of cities with high cloudiness percent as well as low cloudiness percent. It seems that there are only a few cities that have medium cloudiness percentage."
   ]
  },
  {
   "cell_type": "markdown",
   "metadata": {},
   "source": [
    "## Latitude vs. Wind Speed Plot"
   ]
  },
  {
   "cell_type": "code",
   "execution_count": 20,
   "metadata": {
    "scrolled": true
   },
   "outputs": [
    {
     "data": {
      "image/png": "[encoded data removed]",
      "text/plain": [
       "<Figure size 576x360 with 1 Axes>"
      ]
     },
     "metadata": {
      "needs_background": "light"
     },
     "output_type": "display_data"
    }
   ],
   "source": [
    "fig4, ax4 = plt.subplots(figsize=(8,5))\n",
    "ax4.scatter(df_weather_data['Lat'], df_weather_data['Wind Speed'], edgecolors = 'black')\n",
    "ax4.grid(which='major')\n",
    "ax4.set(xlabel = \"Latitude\", ylabel = \"Wind Speed(m/s)\", title = \"City Latitude vs. Wind Speed\");"
   ]
  },
  {
   "cell_type": "markdown",
   "metadata": {},
   "source": [
    "Most of the cities have wind speed between 0 - 4 m/s and only a few have wind speed above 4 regardless of latitude location."
   ]
  },
  {
   "cell_type": "markdown",
   "metadata": {},
   "source": [
    "## Linear Regression"
   ]
  },
  {
   "cell_type": "code",
   "execution_count": 23,
   "metadata": {},
   "outputs": [],
   "source": [
    "# Setting up dataframe for north vs south hemisphere\n",
    "df_north = df_weather_data[df_weather_data[\"Lat\"] >= 0]\n",
    "df_south = df_weather_data[df_weather_data[\"Lat\"] <= 0]"
   ]
  },
  {
   "cell_type": "markdown",
   "metadata": {},
   "source": [
    "####  Northern Hemisphere - Max Temp vs. Latitude Linear Regression"
   ]
  },
  {
   "cell_type": "code",
   "execution_count": 34,
   "metadata": {},
   "outputs": [],
   "source": [
    "# Define function for setting up linear regression fit for north or south hemisphere and plot it\n",
    "def linearfit(xval, yval, hemisphere):\n",
    "    if hemisphere == 'north':\n",
    "        x_values = df_north[xval]\n",
    "        y_values = df_north[yval]\n",
    "    else:\n",
    "        x_values = df_south[xval]\n",
    "        y_values = df_south[yval]\n",
    "    (slope, intercept, rvalue, pvalue, stderr) = linregress(x_values, y_values)\n",
    "    regress_values = x_values * slope + intercept\n",
    "    line_eq = \"y = \" + str(round(slope,2)) + \"x + \" + str(round(intercept,2))\n",
    "    print(f\"The r-value is: {rvalue}\")\n",
    "    plt.scatter(x_values,y_values)\n",
    "    plt.plot(x_values,regress_values,\"r-\")\n",
    "    plt.annotate(line_eq,(6,10),fontsize=15,color=\"red\")\n",
    "    plt.xlabel('Latitude')\n",
    "    plt.ylabel(yval)\n",
    "    plt.show()"
   ]
  },
  {
   "cell_type": "code",
   "execution_count": 35,
   "metadata": {},
   "outputs": [
    {
     "name": "stdout",
     "output_type": "stream",
     "text": [
      "The r-value is: -0.9135308970774231\n"
     ]
    },
    {
     "data": {
      "image/png": "[encoded data removed]",
      "text/plain": [
       "<Figure size 432x288 with 1 Axes>"
      ]
     },
     "metadata": {
      "needs_background": "light"
     },
     "output_type": "display_data"
    }
   ],
   "source": [
    "linearfit(\"Lat\",\"Max Temp\",\"north\")\n"
   ]
  },
  {
   "cell_type": "markdown",
   "metadata": {},
   "source": [
    "As cities located further away from the equator (0), max temperature decreased with a good line regression fit."
   ]
  },
  {
   "cell_type": "markdown",
   "metadata": {},
   "source": [
    "####  Southern Hemisphere - Max Temp vs. Latitude Linear Regression"
   ]
  },
  {
   "cell_type": "code",
   "execution_count": 36,
   "metadata": {
    "scrolled": true
   },
   "outputs": [
    {
     "name": "stdout",
     "output_type": "stream",
     "text": [
      "The r-value is: 0.9020952558252585\n"
     ]
    },
    {
     "data": {
      "image/png": "[encoded data removed]",
      "text/plain": [
       "<Figure size 432x288 with 1 Axes>"
      ]
     },
     "metadata": {
      "needs_background": "light"
     },
     "output_type": "display_data"
    }
   ],
   "source": [
    "linearfit(\"Lat\",\"Max Temp\",\"south\")"
   ]
  },
  {
   "cell_type": "markdown",
   "metadata": {},
   "source": [
    "Same as above but it gets further away from equator on the negative direction"
   ]
  },
  {
   "cell_type": "markdown",
   "metadata": {},
   "source": [
    "####  Northern Hemisphere - Humidity (%) vs. Latitude Linear Regression"
   ]
  },
  {
   "cell_type": "code",
   "execution_count": 37,
   "metadata": {},
   "outputs": [
    {
     "name": "stdout",
     "output_type": "stream",
     "text": [
      "The r-value is: 0.3273879742426909\n"
     ]
    },
    {
     "data": {
      "image/png": "[encoded data removed]",
      "text/plain": [
       "<Figure size 432x288 with 1 Axes>"
      ]
     },
     "metadata": {
      "needs_background": "light"
     },
     "output_type": "display_data"
    }
   ],
   "source": [
    "linearfit(\"Lat\",\"Humidity\",\"north\")"
   ]
  },
  {
   "cell_type": "markdown",
   "metadata": {},
   "source": [
    "####  Southern Hemisphere - Humidity (%) vs. Latitude Linear Regression"
   ]
  },
  {
   "cell_type": "code",
   "execution_count": 38,
   "metadata": {
    "scrolled": true
   },
   "outputs": [
    {
     "name": "stdout",
     "output_type": "stream",
     "text": [
      "The r-value is: -0.12841880936339362\n"
     ]
    },
    {
     "data": {
      "image/png": "[encoded data removed]",
      "text/plain": [
       "<Figure size 432x288 with 1 Axes>"
      ]
     },
     "metadata": {
      "needs_background": "light"
     },
     "output_type": "display_data"
    }
   ],
   "source": [
    "linearfit(\"Lat\",\"Humidity\",\"south\")"
   ]
  },
  {
   "cell_type": "markdown",
   "metadata": {},
   "source": [
    "The correlation of latitude versus humidity seems pretty weak as the r value is 0.32 and -0.12 for north and south hemisphere respectively."
   ]
  },
  {
   "cell_type": "markdown",
   "metadata": {},
   "source": [
    "####  Northern Hemisphere - Cloudiness (%) vs. Latitude Linear Regression"
   ]
  },
  {
   "cell_type": "code",
   "execution_count": 39,
   "metadata": {
    "scrolled": true
   },
   "outputs": [
    {
     "name": "stdout",
     "output_type": "stream",
     "text": [
      "The r-value is: 0.3583898188081485\n"
     ]
    },
    {
     "data": {
      "image/png": "[encoded data removed]",
      "text/plain": [
       "<Figure size 432x288 with 1 Axes>"
      ]
     },
     "metadata": {
      "needs_background": "light"
     },
     "output_type": "display_data"
    }
   ],
   "source": [
    "linearfit(\"Lat\",\"Cloudiness\",\"north\")"
   ]
  },
  {
   "cell_type": "markdown",
   "metadata": {},
   "source": [
    "####  Southern Hemisphere - Cloudiness (%) vs. Latitude Linear Regression"
   ]
  },
  {
   "cell_type": "code",
   "execution_count": 40,
   "metadata": {
    "scrolled": true
   },
   "outputs": [
    {
     "name": "stdout",
     "output_type": "stream",
     "text": [
      "The r-value is: -0.21024458562131385\n"
     ]
    },
    {
     "data": {
      "image/png": "[encoded data removed]",
      "text/plain": [
       "<Figure size 432x288 with 1 Axes>"
      ]
     },
     "metadata": {
      "needs_background": "light"
     },
     "output_type": "display_data"
    }
   ],
   "source": [
    "linearfit(\"Lat\",\"Cloudiness\",\"south\")"
   ]
  },
  {
   "cell_type": "markdown",
   "metadata": {},
   "source": [
    "The correlation of cloudiness versus latitude seems to be pretty weak as the r-value observed are 0.36 and -0.21 for northern and southern hemisphere respectively"
   ]
  },
  {
   "cell_type": "markdown",
   "metadata": {},
   "source": [
    "####  Northern Hemisphere - Wind Speed (mph) vs. Latitude Linear Regression"
   ]
  },
  {
   "cell_type": "code",
   "execution_count": 41,
   "metadata": {},
   "outputs": [
    {
     "name": "stdout",
     "output_type": "stream",
     "text": [
      "The r-value is: 0.24873430019130957\n"
     ]
    },
    {
     "data": {
      "image/png": "[encoded data removed]",
      "text/plain": [
       "<Figure size 432x288 with 1 Axes>"
      ]
     },
     "metadata": {
      "needs_background": "light"
     },
     "output_type": "display_data"
    }
   ],
   "source": [
    "linearfit(\"Lat\",\"Wind Speed\",\"north\")"
   ]
  },
  {
   "cell_type": "markdown",
   "metadata": {},
   "source": [
    "####  Southern Hemisphere - Wind Speed (mph) vs. Latitude Linear Regression"
   ]
  },
  {
   "cell_type": "code",
   "execution_count": 42,
   "metadata": {
    "scrolled": true
   },
   "outputs": [
    {
     "name": "stdout",
     "output_type": "stream",
     "text": [
      "The r-value is: -0.16755312285857799\n"
     ]
    },
    {
     "data": {
      "image/png": "[encoded data removed]",
      "text/plain": [
       "<Figure size 432x288 with 1 Axes>"
      ]
     },
     "metadata": {
      "needs_background": "light"
     },
     "output_type": "display_data"
    }
   ],
   "source": [
    "linearfit(\"Lat\",\"Wind Speed\",\"south\")"
   ]
  },
  {
   "cell_type": "markdown",
   "metadata": {},
   "source": [
    "The correlation of wind speed versus latitude seems to be pretty weak as the r-value observed are 0.25 and -0.17 for northern and southern hemisphere respectively"
   ]
  }
 ],
 "metadata": {
  "anaconda-cloud": {},
  "kernel_info": {
   "name": "python3"
  },
  "kernelspec": {
   "display_name": "Python 3",
   "language": "python",
   "name": "python3"
  },
  "language_info": {
   "codemirror_mode": {
    "name": "ipython",
    "version": 3
   },
   "file_extension": ".py",
   "mimetype": "text/x-python",
   "name": "python",
   "nbconvert_exporter": "python",
   "pygments_lexer": "ipython3",
   "version": "3.7.6"
  },
  "latex_envs": {
   "LaTeX_envs_menu_present": true,
   "autoclose": false,
   "autocomplete": true,
   "bibliofile": "biblio.bib",
   "cite_by": "apalike",
   "current_citInitial": 1,
   "eqLabelWithNumbers": true,
   "eqNumInitial": 1,
   "hotkeys": {
    "equation": "Ctrl-E",
    "itemize": "Ctrl-I"
   },
   "labels_anchors": false,
   "latex_user_defs": false,
   "report_style_numbering": false,
   "user_envs_cfg": false
  },
  "nteract": {
   "version": "0.12.3"
  }
 },
 "nbformat": 4,
 "nbformat_minor": 2
}
